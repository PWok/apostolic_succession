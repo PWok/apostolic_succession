{
 "cells": [
  {
   "cell_type": "code",
   "execution_count": 1,
   "metadata": {},
   "outputs": [],
   "source": [
    "import json\n",
    "from pyvis.network import Network"
   ]
  },
  {
   "cell_type": "code",
   "execution_count": 2,
   "metadata": {},
   "outputs": [],
   "source": [
    "start = \"rebiba\""
   ]
  },
  {
   "cell_type": "code",
   "execution_count": 3,
   "metadata": {},
   "outputs": [],
   "source": [
    "with open(f\"./succ_{start}.json\", \"r\") as f:\n",
    "    data = json.load(f)\n",
    "    "
   ]
  },
  {
   "cell_type": "code",
   "execution_count": 4,
   "metadata": {},
   "outputs": [
    {
     "name": "stdout",
     "output_type": "stream",
     "text": [
      "Warning: When  cdn_resources is 'local' jupyter notebook has issues displaying graphics on chrome/safari. Use cdn_resources='in_line' or cdn_resources='remote' if you have issues viewing graphics in a notebook.\n"
     ]
    }
   ],
   "source": [
    "net = Network(notebook=True, layout=True, directed=True, filter_menu=True, select_menu=True)\n",
    "\n",
    "\n",
    "options = \"\"\"{\n",
    "  \"groups\": {\n",
    "    \"bishops\": {\n",
    "       \"color\": \"#97c2fc\" \n",
    "    },\n",
    "    \"archbishops\": {\n",
    "      \"color\": \"#0c58bd\"\n",
    "       \n",
    "    },\n",
    "    \"cardinals\": {\n",
    "      \"color\": \"#e43099\",\n",
    "      \"size\": 20\n",
    "    },\n",
    "    \"popes\": {\n",
    "      \"color\": \"#f1ff26\",\n",
    "      \"size\": 30\n",
    "    }\n",
    "  },\n",
    "  \"layout\": {\n",
    "    \"hierarchical\": {\n",
    "      \"enabled\": true,\n",
    "      \"nodeSpacing\": 135\n",
    "    }\n",
    "  },\n",
    "  \"interaction\": {\n",
    "    \"navigationButtons\": true\n",
    "  },\n",
    "  \"physics\": {\n",
    "    \"enabled\": false,\n",
    "    \"hierarchicalRepulsion\": {\n",
    "      \"centralGravity\": 0,\n",
    "      \"avoidOverlap\": null\n",
    "    },\n",
    "    \"minVelocity\": 0.75,\n",
    "    \"solver\": \"hierarchicalRepulsion\"\n",
    "  }\n",
    "}\"\"\"\n",
    "\n",
    "net.set_options(options)\n",
    "\n",
    "\n",
    "\n",
    "for bishop in data:\n",
    "    \n",
    "    dead = (\"†\" in bishop[\"name\"]) or bishop[\"death\"] != \"\"\n",
    "    \n",
    "    \n",
    "    group = \"bishops\"\n",
    "    \n",
    "    if bishop[\"name\"].startswith(\"Archbishop\"):\n",
    "        group = \"archbishops\"\n",
    "    \n",
    "    if \"Cardinal\" in bishop[\"name\"]:\n",
    "        group = \"cardinals\"\n",
    "        \n",
    "    if bishop[\"name\"].startswith(\"Pope\"):\n",
    "        group = \"popes\"\n",
    "       \n",
    "  \n",
    "    title = \"died: \" + bishop[\"death\"] if dead else \"alive\"\n",
    "    shape = \"diamond\" if dead else \"dot\"\n",
    "    \n",
    "    net.add_node(n_id = bishop[\"id\"], shape = shape, label=bishop[\"name\"], level=bishop[\"level\"], title=title, group=group, alive=str(not dead))\n",
    "    \n",
    "for bishop in data:\n",
    "    consecrator = bishop[\"consecrator\"]\n",
    "    if consecrator != \"\":\n",
    "        net.add_edge(consecrator, bishop[\"id\"])\n",
    "    "
   ]
  },
  {
   "cell_type": "code",
   "execution_count": 5,
   "metadata": {},
   "outputs": [],
   "source": [
    "path = f\"./succession_{start}.html\"\n",
    "\n",
    "#net.show_buttons()\n",
    "#net.toggle_physics(False)\n",
    "net.save_graph(path)"
   ]
  },
  {
   "cell_type": "code",
   "execution_count": 6,
   "metadata": {},
   "outputs": [
    {
     "data": {
      "text/plain": [
       "21744"
      ]
     },
     "execution_count": 6,
     "metadata": {},
     "output_type": "execute_result"
    }
   ],
   "source": [
    "len(net.nodes)"
   ]
  }
 ],
 "metadata": {
  "kernelspec": {
   "display_name": ".venv",
   "language": "python",
   "name": "python3"
  },
  "language_info": {
   "codemirror_mode": {
    "name": "ipython",
    "version": 3
   },
   "file_extension": ".py",
   "mimetype": "text/x-python",
   "name": "python",
   "nbconvert_exporter": "python",
   "pygments_lexer": "ipython3",
   "version": "3.12.4"
  }
 },
 "nbformat": 4,
 "nbformat_minor": 2
}
